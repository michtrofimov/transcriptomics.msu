{
  "cells": [
    {
      "cell_type": "markdown",
      "metadata": {
        "id": "_KCvt8b-t-eh"
      },
      "source": [
        "## Домашнее задание\n",
        "\n",
        "Сделайте NextFlow пайплайн, который будет подсчитывать принимать на вход аргументом список SRA-идентефикаторов эксперимента, а на выход давать подсчитанные экспрессии. Путь к индексу kallisto тоже будет подаваться на вход отдельно как аргумент."
      ]
    },
    {
      "cell_type": "code",
      "execution_count": 2,
      "metadata": {},
      "outputs": [],
      "source": [
        "!touch sra_download_qc.nf"
      ]
    },
    {
      "cell_type": "code",
      "execution_count": 1,
      "metadata": {
        "id": "lbZUBSbVyNPj"
      },
      "outputs": [],
      "source": [
        "!touch kallisto.nf"
      ]
    },
    {
      "cell_type": "code",
      "execution_count": 6,
      "metadata": {
        "colab": {
          "base_uri": "https://localhost:8080/"
        },
        "id": "P3xPiwFcEC9j",
        "outputId": "06fccf68-1496-45f5-bd2d-d9dd805d9446"
      },
      "outputs": [
        {
          "name": "stdout",
          "output_type": "stream",
          "text": [
            "N E X T F L O W  ~  version 23.04.1\n",
            "Launching `sra_download_qc.nf` [romantic_wiles] DSL2 - revision: 7cb98fa055\n",
            "\n",
            "  Q U A L I T Y   C O N T R O L  \n",
            "=================================\n",
            "SRA number         : [SRR20851170, SRR20851171, SRR20851172]\n",
            "Results location   : results/\n",
            "[-        ] process > DownloadFastQ -\u001b[K\n",
            "[-        ] process > QC            -\u001b[K\n",
            "[-        ] process > MultiQC       -\u001b[K\n",
            "\u001b[4A\n",
            "executor >  local (2)\u001b[K\n",
            "[b4/b8c58f] process > DownloadFastQ (1) [  0%] 0 of 3\u001b[K\n",
            "[-        ] process > QC                -\u001b[K\n",
            "[-        ] process > MultiQC           -\u001b[K\n",
            "\u001b[5A\n",
            "executor >  local (3)\u001b[K\n",
            "[94/4d9a36] process > DownloadFastQ (3) [  0%] 0 of 3\u001b[K\n",
            "[-        ] process > QC                -\u001b[K\n",
            "[-        ] process > MultiQC           -\u001b[K\n",
            "\u001b[5A\n",
            "executor >  local (3)\u001b[K\n",
            "[94/4d9a36] process > DownloadFastQ (3) [  0%] 0 of 3\u001b[K\n",
            "[-        ] process > QC                -\u001b[K\n",
            "[-        ] process > MultiQC           -\u001b[K\n",
            "\u001b[31mERROR ~ Error executing process > 'DownloadFastQ (2)'\u001b[K\n",
            "\u001b[K\n",
            "Caused by:\u001b[K\n",
            "  Process `DownloadFastQ (2)` terminated with an error exit status (64)\u001b[K\n",
            "\u001b[K\n",
            "Command executed:\u001b[K\n",
            "\u001b[K\n",
            "  fasterq-dump SRR20851171 -O SRR20851171/\u001b[K\n",
            "\u001b[K\n",
            "Command exit status:\u001b[K\n",
            "  64\u001b[K\n",
            "\u001b[K\n",
            "Command output:\u001b[K\n",
            "  (empty)\u001b[K\n",
            "\u001b[K\n",
            "Command error:\u001b[K\n",
            "  2023-05-23T15:28:22 fasterq-dump.3.0.0 sys: encryption failed while validating token within cryptographic module - Verification issue 0x4008 for this certificate: (  cert. version     : 3  serial number     : 00  issuer name       : C=US, O=The Go Daddy Group, Inc., OU=Go Daddy Class 2 Certification Authority  subject name      : C=US, O=The Go Daddy Group, Inc., OU=Go Daddy Class 2 Certification Authority  issued  on        : 2004-06-29 17:06:20  expires on        : 2034-06-29 17:06:20  signed using      : RSA with SHA1  RSA key size      : 2048 bits  basic constraints : CA=true  )\u001b[K\n",
            "  2023-05-23T15:28:22 fasterq-dump.3.0.0 sys: encryption failed while validating token within cryptographic module - Verification issue 0x8 for this certificate: (  cert. version     : 3  serial number     : 1B:E7:15  issuer name       : C=US, O=The Go Daddy Group, Inc., OU=Go Daddy Class 2 Certification Authority  subject name      : C=US, ST=Arizona, L=Scottsdale, O=GoDaddy.com, Inc., CN=Go Daddy Root Certificate Authority - G2  issued  on        : 2014-01-01 07:00:00  expires on        : 2031-05-30 07:00:00  signed using      : RSA with SHA-256  RSA key size      : 2048 bits  basic constraints : CA=true  key usage         : Key Cert Sign, CRL Sign  certificate policies : Any Policy  )\u001b[K\n",
            "  2023-05-23T15:28:22 fasterq-dump.3.0.0 sys: encryption failed while validating token within cryptographic module - Verification issue 0x8 for this certificate: (  cert. version     : 3  serial number     : 07  issuer name       : C=US, ST=Arizona, L=Scottsdale, O=GoDaddy.com, Inc., CN=Go Daddy Root Certificate Authority - G2  subject name      : C=US, ST=Arizona, L=Scottsdale, O=GoDaddy.com, Inc., OU=http://certs.godaddy.com/repository/, CN=Go Daddy Secure Certificate Authority - G2  issued  on        : 2011-05-03 07:00:00  expires on        : 2031-05-03 07:00:00  signed using      : RSA with SHA-256  RSA key size      : 2048 bits  basic constraints : CA=true  key usage         : Key Cert Sign, CRL Sign  certificate policies : Any Policy  )\u001b[K\n",
            "  2023-05-23T15:28:22 fasterq-dump.3.0.0 sys: encryption failed while validating token within cryptographic module - Verification issue 0x8 for this certificate: (  cert. version     : 3  serial number     : 90:7F:95:EE:0F:C3:C8:41  issuer name       : C=US, ST=Arizona, L=Scottsdale, O=GoDaddy.com, Inc., OU=http://certs.godaddy.com/repository/, CN=Go Daddy Secure Certificate Authority - G2  subject name      : CN=*.ncbi.nlm.nih.gov  issued  on        : 2022-08-02 21:41:30  expires on        : 2023-08-02 21:41:30  signed using      : RSA with SHA-256  RSA key size      : 2048 bits  basic constraints : CA=false  subject alt name  :      dNSName : *.ncbi.nlm.nih.gov      dNSName : ncbi.nlm.nih.gov  key usage         : Digital Signature, Key Encipherment  ext key usage     : TLS Web Server Authentication, TLS Web Client Authentication  certificate policies : ???, ???  )\u001b[K\n",
            "  2023-05-23T15:28:22 fasterq-dump.3.0.0 sys: mbedtls_ssl_get_verify_result for 'locate.ncbi.nlm.nih.gov' returned 0x4008 ( !! The certificate is not correctly signed by the trusted CA  !! The certificate is signed with an unacceptable hash. )\u001b[K\n",
            "  Failed to call external services.\u001b[K\n",
            "\u001b[K\n",
            "Work dir:\u001b[K\n",
            "  /Users/m.trofimov/Dropbox/Study/transcriptomics/work/a2/ae24342e8fb1422ccc109859cfdb02\u001b[K\n",
            "\u001b[K\n",
            "Tip: when you have fixed the problem you can continue the execution adding the option `-resume` to the run command line\u001b[K\n",
            "\u001b[K\n",
            " -- Check '.nextflow.log' file for details\u001b[39m\u001b[K\n",
            "WARN: Killing running tasks (1)\n",
            "\u001b[34A\n",
            "executor >  local (3)\u001b[K\n",
            "[94/4d9a36] process > DownloadFastQ (3) [133%] 4 of 3, failed: 4 ✘\u001b[K\n",
            "[-        ] process > QC                -\u001b[K\n",
            "[-        ] process > MultiQC           -\u001b[K\n",
            "\u001b[31mERROR ~ Error executing process > 'DownloadFastQ (2)'\u001b[K\n",
            "\u001b[K\n",
            "Caused by:\u001b[K\n",
            "  Process `DownloadFastQ (2)` terminated with an error exit status (64)\u001b[K\n",
            "\u001b[K\n",
            "Command executed:\u001b[K\n",
            "\u001b[K\n",
            "  fasterq-dump SRR20851171 -O SRR20851171/\u001b[K\n",
            "\u001b[K\n",
            "Command exit status:\u001b[K\n",
            "  64\u001b[K\n",
            "\u001b[K\n",
            "Command output:\u001b[K\n",
            "  (empty)\u001b[K\n",
            "\u001b[K\n",
            "Command error:\u001b[K\n",
            "  2023-05-23T15:28:22 fasterq-dump.3.0.0 sys: encryption failed while validating token within cryptographic module - Verification issue 0x4008 for this certificate: (  cert. version     : 3  serial number     : 00  issuer name       : C=US, O=The Go Daddy Group, Inc., OU=Go Daddy Class 2 Certification Authority  subject name      : C=US, O=The Go Daddy Group, Inc., OU=Go Daddy Class 2 Certification Authority  issued  on        : 2004-06-29 17:06:20  expires on        : 2034-06-29 17:06:20  signed using      : RSA with SHA1  RSA key size      : 2048 bits  basic constraints : CA=true  )\u001b[K\n",
            "  2023-05-23T15:28:22 fasterq-dump.3.0.0 sys: encryption failed while validating token within cryptographic module - Verification issue 0x8 for this certificate: (  cert. version     : 3  serial number     : 1B:E7:15  issuer name       : C=US, O=The Go Daddy Group, Inc., OU=Go Daddy Class 2 Certification Authority  subject name      : C=US, ST=Arizona, L=Scottsdale, O=GoDaddy.com, Inc., CN=Go Daddy Root Certificate Authority - G2  issued  on        : 2014-01-01 07:00:00  expires on        : 2031-05-30 07:00:00  signed using      : RSA with SHA-256  RSA key size      : 2048 bits  basic constraints : CA=true  key usage         : Key Cert Sign, CRL Sign  certificate policies : Any Policy  )\u001b[K\n",
            "  2023-05-23T15:28:22 fasterq-dump.3.0.0 sys: encryption failed while validating token within cryptographic module - Verification issue 0x8 for this certificate: (  cert. version     : 3  serial number     : 07  issuer name       : C=US, ST=Arizona, L=Scottsdale, O=GoDaddy.com, Inc., CN=Go Daddy Root Certificate Authority - G2  subject name      : C=US, ST=Arizona, L=Scottsdale, O=GoDaddy.com, Inc., OU=http://certs.godaddy.com/repository/, CN=Go Daddy Secure Certificate Authority - G2  issued  on        : 2011-05-03 07:00:00  expires on        : 2031-05-03 07:00:00  signed using      : RSA with SHA-256  RSA key size      : 2048 bits  basic constraints : CA=true  key usage         : Key Cert Sign, CRL Sign  certificate policies : Any Policy  )\u001b[K\n",
            "  2023-05-23T15:28:22 fasterq-dump.3.0.0 sys: encryption failed while validating token within cryptographic module - Verification issue 0x8 for this certificate: (  cert. version     : 3  serial number     : 90:7F:95:EE:0F:C3:C8:41  issuer name       : C=US, ST=Arizona, L=Scottsdale, O=GoDaddy.com, Inc., OU=http://certs.godaddy.com/repository/, CN=Go Daddy Secure Certificate Authority - G2  subject name      : CN=*.ncbi.nlm.nih.gov  issued  on        : 2022-08-02 21:41:30  expires on        : 2023-08-02 21:41:30  signed using      : RSA with SHA-256  RSA key size      : 2048 bits  basic constraints : CA=false  subject alt name  :      dNSName : *.ncbi.nlm.nih.gov      dNSName : ncbi.nlm.nih.gov  key usage         : Digital Signature, Key Encipherment  ext key usage     : TLS Web Server Authentication, TLS Web Client Authentication  certificate policies : ???, ???  )\u001b[K\n",
            "  2023-05-23T15:28:22 fasterq-dump.3.0.0 sys: mbedtls_ssl_get_verify_result for 'locate.ncbi.nlm.nih.gov' returned 0x4008 ( !! The certificate is not correctly signed by the trusted CA  !! The certificate is signed with an unacceptable hash. )\u001b[K\n",
            "  Failed to call external services.\u001b[K\n",
            "\u001b[K\n",
            "Work dir:\u001b[K\n",
            "  /Users/m.trofimov/Dropbox/Study/transcriptomics/work/a2/ae24342e8fb1422ccc109859cfdb02\u001b[K\n",
            "\u001b[K\n",
            "Tip: when you have fixed the problem you can continue the execution adding the option `-resume` to the run command line\u001b[K\n",
            "\u001b[K\n",
            " -- Check '.nextflow.log' file for details\u001b[39m\u001b[K\n",
            "\n"
          ]
        }
      ],
      "source": [
        "!nextflow run sra_download_qc.nf --SRA SRR20851170,SRR20851171,SRR20851172"
      ]
    },
    {
      "cell_type": "markdown",
      "metadata": {
        "id": "VQB0tusBHfpn"
      },
      "source": [
        "# Kallisto part"
      ]
    },
    {
      "cell_type": "code",
      "execution_count": null,
      "metadata": {
        "colab": {
          "base_uri": "https://localhost:8080/"
        },
        "id": "GT0ki2UvHdEp",
        "outputId": "5fe436c4-dbbe-4a32-ace1-6b459153cd63"
      },
      "outputs": [
        {
          "name": "stdout",
          "output_type": "stream",
          "text": [
            "Cloning into 'kallisto'...\n",
            "remote: Enumerating objects: 4140, done.\u001b[K\n",
            "remote: Counting objects: 100% (154/154), done.\u001b[K\n",
            "remote: Compressing objects: 100% (79/79), done.\u001b[K\n",
            "remote: Total 4140 (delta 82), reused 118 (delta 67), pack-reused 3986\u001b[K\n",
            "Receiving objects: 100% (4140/4140), 4.24 MiB | 13.88 MiB/s, done.\n",
            "Resolving deltas: 100% (2697/2697), done.\n",
            "Reading package lists... Done\n",
            "Building dependency tree       \n",
            "Reading state information... Done\n",
            "autoconf is already the newest version (2.69-11.1).\n",
            "autoconf set to manually installed.\n",
            "0 upgraded, 0 newly installed, 0 to remove and 24 not upgraded.\n",
            "-- The C compiler identification is GNU 9.4.0\n",
            "-- The CXX compiler identification is GNU 9.4.0\n",
            "-- Detecting C compiler ABI info\n",
            "-- Detecting C compiler ABI info - done\n",
            "-- Check for working C compiler: /usr/bin/cc - skipped\n",
            "-- Detecting C compile features\n",
            "-- Detecting C compile features - done\n",
            "-- Detecting CXX compiler ABI info\n",
            "-- Detecting CXX compiler ABI info - done\n",
            "-- Check for working CXX compiler: /usr/bin/c++ - skipped\n",
            "-- Detecting CXX compile features\n",
            "-- Detecting CXX compile features - done\n",
            "\u001b[0mshared build\u001b[0m\n",
            "-- Performing Test CMAKE_HAVE_LIBC_PTHREAD\n",
            "-- Performing Test CMAKE_HAVE_LIBC_PTHREAD - Failed\n",
            "-- Looking for pthread_create in pthreads\n",
            "-- Looking for pthread_create in pthreads - not found\n",
            "-- Looking for pthread_create in pthread\n",
            "-- Looking for pthread_create in pthread - found\n",
            "-- Found Threads: TRUE  \n",
            "-- Found ZLIB: /usr/lib/x86_64-linux-gnu/libz.so (found version \"1.2.11\") \n",
            "-- Configuring done\n",
            "-- Generating done\n",
            "-- Build files have been written to: /content/kallisto/build\n",
            "[  3%] \u001b[34m\u001b[1mCreating directories for 'htslib'\u001b[0m\n",
            "[  6%] \u001b[34m\u001b[1mNo download step for 'htslib'\u001b[0m\n",
            "[ 10%] \u001b[34m\u001b[1mNo update step for 'htslib'\u001b[0m\n",
            "[ 13%] \u001b[34m\u001b[1mNo patch step for 'htslib'\u001b[0m\n",
            "[ 17%] \u001b[34m\u001b[1mPerforming configure step for 'htslib'\u001b[0m\n",
            "checking for gcc... gcc\n",
            "checking whether the C compiler works... yes\n",
            "checking for C compiler default output file name... a.out\n",
            "checking for suffix of executables... \n",
            "checking whether we are cross compiling... no\n",
            "checking for suffix of object files... o\n",
            "checking whether we are using the GNU C compiler... yes\n",
            "checking whether gcc accepts -g... yes\n",
            "checking for gcc option to accept ISO C89... none needed\n",
            "checking for ranlib... ranlib\n",
            "checking for special C compiler options needed for large files... no\n",
            "checking for _FILE_OFFSET_BITS value needed for large files... no\n",
            "checking shared library type... plain .so\n",
            "checking how to run the C preprocessor... gcc -E\n",
            "checking for grep that handles long lines and -e... /usr/bin/grep\n",
            "checking for egrep... /usr/bin/grep -E\n",
            "checking for ANSI C header files... yes\n",
            "checking for sys/types.h... yes\n",
            "checking for sys/stat.h... yes\n",
            "checking for stdlib.h... yes\n",
            "checking for string.h... yes\n",
            "checking for memory.h... yes\n",
            "checking for strings.h... yes\n",
            "checking for inttypes.h... yes\n",
            "checking for stdint.h... yes\n",
            "checking for unistd.h... yes\n",
            "checking for stdlib.h... (cached) yes\n",
            "checking for unistd.h... (cached) yes\n",
            "checking for sys/param.h... yes\n",
            "checking for getpagesize... yes\n",
            "checking for working mmap... yes\n",
            "checking for gmtime_r... yes\n",
            "checking whether fdatasync is declared... yes\n",
            "checking for fdatasync... yes\n",
            "checking for library containing log... -lm\n",
            "checking for zlib.h... yes\n",
            "checking for inflate in -lz... yes\n",
            "checking for library containing connect... none required\n",
            "configure: WARNING: GCS support not enabled: requires libcurl support\n",
            "configure: WARNING: S3 support not enabled: requires libcurl support\n",
            "configure: creating ./config.status\n",
            "config.status: creating config.mk\n",
            "config.status: creating htslib.pc.tmp\n",
            "config.status: creating config.h\n",
            "[ 20%] \u001b[34m\u001b[1mPerforming build step for 'htslib'\u001b[0m\n",
            "In file included from \u001b[01m\u001b[K/usr/include/string.h:495\u001b[m\u001b[K,\n",
            "                 from \u001b[01m\u001b[Kcram/cram_index.c:57\u001b[m\u001b[K:\n",
            "In function ‘\u001b[01m\u001b[Kmemcpy\u001b[m\u001b[K’,\n",
            "    inlined from ‘\u001b[01m\u001b[Kkputsn\u001b[m\u001b[K’ at \u001b[01m\u001b[K./htslib/kstring.h:148:2\u001b[m\u001b[K,\n",
            "    inlined from ‘\u001b[01m\u001b[Kkputs\u001b[m\u001b[K’ at \u001b[01m\u001b[K./htslib/kstring.h:156:9\u001b[m\u001b[K,\n",
            "    inlined from ‘\u001b[01m\u001b[Kcram_index_build\u001b[m\u001b[K’ at \u001b[01m\u001b[Kcram/cram_index.c:516:9\u001b[m\u001b[K:\n",
            "\u001b[01m\u001b[K/usr/include/x86_64-linux-gnu/bits/string_fortified.h:34:10:\u001b[m\u001b[K \u001b[01;35m\u001b[Kwarning: \u001b[m\u001b[K‘\u001b[01m\u001b[K__builtin_memcpy\u001b[m\u001b[K’ specified bound 18446744073709551614 exceeds maximum object size 9223372036854775807 [\u001b[01;35m\u001b[K-Wstringop-overflow=\u001b[m\u001b[K]\n",
            "   34 |   return \u001b[01;35m\u001b[K__builtin___memcpy_chk (__dest, __src, __len, __bos0 (__dest))\u001b[m\u001b[K;\n",
            "      |          \u001b[01;35m\u001b[K^~~~~~~~~~~~~~~~~~~~~~~~~~~~~~~~~~~~~~~~~~~~~~~~~~~~~~~~~~~~~~\u001b[m\u001b[K\n",
            "\u001b[01m\u001b[Kcram/cram_io.c:\u001b[m\u001b[K In function ‘\u001b[01m\u001b[Kcram_populate_ref\u001b[m\u001b[K’:\n",
            "\u001b[01m\u001b[Kcram/cram_io.c:2180:27:\u001b[m\u001b[K \u001b[01;35m\u001b[Kwarning: \u001b[m\u001b[K‘\u001b[01m\u001b[K.tmp_\u001b[m\u001b[K’ directive writing 5 bytes into a region of size between 1 and 4096 [\u001b[01;35m\u001b[K-Wformat-overflow=\u001b[m\u001b[K]\n",
            " 2180 |      sprintf(path_tmp, \"%s\u001b[01;35m\u001b[K.tmp_\u001b[m\u001b[K%d_%u_%u\", path, pid, thrid, t);\n",
            "      |                           \u001b[01;35m\u001b[K^~~~~\u001b[m\u001b[K\n",
            "\u001b[01m\u001b[Kcram/cram_io.c:2180:24:\u001b[m\u001b[K \u001b[01;36m\u001b[Knote: \u001b[m\u001b[Kusing the range [0, 4294967295] for directive argument\n",
            " 2180 |      sprintf(path_tmp, \u001b[01;36m\u001b[K\"%s.tmp_%d_%u_%u\"\u001b[m\u001b[K, path, pid, thrid, t);\n",
            "      |                        \u001b[01;36m\u001b[K^~~~~~~~~~~~~~~~~\u001b[m\u001b[K\n",
            "\u001b[01m\u001b[Kcram/cram_io.c:2180:24:\u001b[m\u001b[K \u001b[01;36m\u001b[Knote: \u001b[m\u001b[Kusing the range [0, 4294967295] for directive argument\n",
            "In file included from \u001b[01m\u001b[K/usr/include/stdio.h:867\u001b[m\u001b[K,\n",
            "                 from \u001b[01m\u001b[Kcram/cram_io.c:49\u001b[m\u001b[K:\n",
            "\u001b[01m\u001b[K/usr/include/x86_64-linux-gnu/bits/stdio2.h:36:10:\u001b[m\u001b[K \u001b[01;36m\u001b[Knote: \u001b[m\u001b[K‘\u001b[01m\u001b[K__builtin___sprintf_chk\u001b[m\u001b[K’ output between 11 and 4134 bytes into a destination of size 4096\n",
            "   36 |   return \u001b[01;36m\u001b[K__builtin___sprintf_chk (__s, __USE_FORTIFY_LEVEL - 1,\u001b[m\u001b[K\n",
            "      |          \u001b[01;36m\u001b[K^~~~~~~~~~~~~~~~~~~~~~~~~~~~~~~~~~~~~~~~~~~~~~~~~~~~~~\u001b[m\u001b[K\n",
            "   37 | \u001b[01;36m\u001b[K      __bos (__s), __fmt, __va_arg_pack ())\u001b[m\u001b[K;\n",
            "      |       \u001b[01;36m\u001b[K~~~~~~~~~~~~~~~~~~~~~~~~~~~~~~~~~~~~~\u001b[m\u001b[K\n",
            "[ 24%] \u001b[34m\u001b[1mNo install step for 'htslib'\u001b[0m\n",
            "[ 27%] \u001b[34m\u001b[1mCompleted 'htslib'\u001b[0m\n",
            "[ 27%] Built target htslib\n",
            "[ 31%] \u001b[32mBuilding CXX object src/CMakeFiles/kallisto_core.dir/BUSData.cpp.o\u001b[0m\n",
            "[ 34%] \u001b[32mBuilding CXX object src/CMakeFiles/kallisto_core.dir/BUSTools.cpp.o\u001b[0m\n",
            "[ 37%] \u001b[32mBuilding CXX object src/CMakeFiles/kallisto_core.dir/Bootstrap.cpp.o\u001b[0m\n",
            "[ 41%] \u001b[32mBuilding CXX object src/CMakeFiles/kallisto_core.dir/GeneModel.cpp.o\u001b[0m\n",
            "[ 44%] \u001b[32mBuilding CXX object src/CMakeFiles/kallisto_core.dir/H5Writer.cpp.o\u001b[0m\n",
            "[ 48%] \u001b[32mBuilding CXX object src/CMakeFiles/kallisto_core.dir/Kmer.cpp.o\u001b[0m\n",
            "[ 51%] \u001b[32mBuilding CXX object src/CMakeFiles/kallisto_core.dir/KmerIndex.cpp.o\u001b[0m\n",
            "[ 55%] \u001b[32mBuilding CXX object src/CMakeFiles/kallisto_core.dir/KmerIterator.cpp.o\u001b[0m\n",
            "[ 58%] \u001b[32mBuilding CXX object src/CMakeFiles/kallisto_core.dir/Merge.cpp.o\u001b[0m\n",
            "[ 62%] \u001b[32mBuilding CXX object src/CMakeFiles/kallisto_core.dir/MinCollector.cpp.o\u001b[0m\n",
            "[ 65%] \u001b[32mBuilding CXX object src/CMakeFiles/kallisto_core.dir/PlaintextWriter.cpp.o\u001b[0m\n",
            "[ 68%] \u001b[32mBuilding CXX object src/CMakeFiles/kallisto_core.dir/ProcessReads.cpp.o\u001b[0m\n",
            "[ 72%] \u001b[32mBuilding CXX object src/CMakeFiles/kallisto_core.dir/PseudoBam.cpp.o\u001b[0m\n",
            "[ 75%] \u001b[32mBuilding CXX object src/CMakeFiles/kallisto_core.dir/common.cpp.o\u001b[0m\n",
            "[ 79%] \u001b[32mBuilding CXX object src/CMakeFiles/kallisto_core.dir/h5utils.cpp.o\u001b[0m\n",
            "[ 82%] \u001b[32mBuilding CXX object src/CMakeFiles/kallisto_core.dir/hash.cpp.o\u001b[0m\n",
            "[ 86%] \u001b[32mBuilding CXX object src/CMakeFiles/kallisto_core.dir/main.cpp.o\u001b[0m\n",
            "[ 89%] \u001b[32mBuilding CXX object src/CMakeFiles/kallisto_core.dir/weights.cpp.o\u001b[0m\n",
            "[ 93%] \u001b[32m\u001b[1mLinking CXX static library libkallisto_core.a\u001b[0m\n",
            "[ 93%] Built target kallisto_core\n",
            "[ 96%] \u001b[32mBuilding CXX object src/CMakeFiles/kallisto.dir/main.cpp.o\u001b[0m\n",
            "[100%] \u001b[32m\u001b[1mLinking CXX executable kallisto\u001b[0m\n",
            "[100%] Built target kallisto\n"
          ]
        }
      ],
      "source": [
        "!git clone https://github.com/pachterlab/kallisto.git\n",
        "!apt-get install autoconf\n",
        "!cd kallisto && mkdir build && cd build && cmake .. && make"
      ]
    },
    {
      "cell_type": "code",
      "execution_count": 16,
      "metadata": {
        "colab": {
          "base_uri": "https://localhost:8080/"
        },
        "id": "_P6fh04IJ5SX",
        "outputId": "57ce2980-0f44-4f46-bb31-ee932ba06080"
      },
      "outputs": [
        {
          "name": "stdout",
          "output_type": "stream",
          "text": [
            "--2023-05-23 19:33:04--  https://ftp.ncbi.nlm.nih.gov/refseq/H_sapiens/annotation/GRCh38_latest/refseq_identifiers/GRCh38_latest_rna.fna.gz\n",
            "Resolving ftp.ncbi.nlm.nih.gov (ftp.ncbi.nlm.nih.gov)... 130.14.250.11, 130.14.250.10\n",
            "Connecting to ftp.ncbi.nlm.nih.gov (ftp.ncbi.nlm.nih.gov)|130.14.250.11|:443... connected.\n",
            "HTTP request sent, awaiting response... 200 OK\n",
            "Length: 135211127 (129M) [application/x-gzip]\n",
            "Saving to: ‘GRCh38_latest_rna.fna.gz.1’\n",
            "\n",
            "GRCh38_latest_rna.f 100%[===================>] 128.95M  3.12MB/s    in 46s     \n",
            "\n",
            "2023-05-23 19:33:51 (2.81 MB/s) - ‘GRCh38_latest_rna.fna.gz.1’ saved [135211127/135211127]\n",
            "\n"
          ]
        }
      ],
      "source": [
        "!wget https://ftp.ncbi.nlm.nih.gov/refseq/H_sapiens/annotation/GRCh38_latest/refseq_identifiers/GRCh38_latest_rna.fna.gz"
      ]
    },
    {
      "cell_type": "code",
      "execution_count": 17,
      "metadata": {
        "colab": {
          "base_uri": "https://localhost:8080/"
        },
        "id": "P101rfle1DLx",
        "outputId": "87888e92-0167-4b5e-e9e3-6a30e27d8479"
      },
      "outputs": [
        {
          "name": "stdout",
          "output_type": "stream",
          "text": [
            "\n",
            "[build] loading fasta file ref_genome/GRCh38_latest_rna.fna.gz\n",
            "[build] k-mer length: 31\n",
            "[build] warning: clipped off poly-A tail (longer than 10)\n",
            "        from 5125 target sequences\n",
            "[build] warning: replaced 16 non-ACGUT characters in the input sequence\n",
            "        with pseudorandom nucleotides\n",
            "[build] counting k-mers ... done.\n",
            "[build] building target de Bruijn graph ... ^C\n"
          ]
        }
      ],
      "source": [
        "!kallisto index -i transcriptome.idx ref_genome/GRCh38_latest_rna.fna.gz"
      ]
    },
    {
      "cell_type": "code",
      "execution_count": null,
      "metadata": {
        "id": "ryKohYxPHehU"
      },
      "outputs": [],
      "source": [
        "!./kallisto/build/src/kallisto quant -i GRCh38_latest_genomic.fna.gz "
      ]
    },
    {
      "cell_type": "code",
      "execution_count": null,
      "metadata": {
        "id": "WKGXERRrhSp0"
      },
      "outputs": [],
      "source": []
    },
    {
      "cell_type": "code",
      "execution_count": null,
      "metadata": {
        "id": "O9YPksTtiFy7"
      },
      "outputs": [],
      "source": []
    }
  ],
  "metadata": {
    "colab": {
      "provenance": []
    },
    "kernelspec": {
      "display_name": "Python 3",
      "name": "python3"
    },
    "language_info": {
      "codemirror_mode": {
        "name": "ipython",
        "version": 3
      },
      "file_extension": ".py",
      "mimetype": "text/x-python",
      "name": "python",
      "nbconvert_exporter": "python",
      "pygments_lexer": "ipython3",
      "version": "3.11.0"
    }
  },
  "nbformat": 4,
  "nbformat_minor": 0
}
